{
  "nbformat": 4,
  "nbformat_minor": 0,
  "metadata": {
    "colab": {
      "name": "Optimising the Prudential Equity Fund .ipynb",
      "provenance": [],
      "collapsed_sections": [],
      "authorship_tag": "ABX9TyMIZvwKoLcSREzOb5vPIde2",
      "include_colab_link": true
    },
    "kernelspec": {
      "name": "python3",
      "display_name": "Python 3"
    },
    "language_info": {
      "name": "python"
    }
  },
  "cells": [
    {
      "cell_type": "markdown",
      "metadata": {
        "id": "view-in-github",
        "colab_type": "text"
      },
      "source": [
        "<a href=\"https://colab.research.google.com/github/Thato-Th/Portfolio-Optimization/blob/main/Optimising_the_Prudential_Equity_Fund_.ipynb\" target=\"_parent\"><img src=\"https://colab.research.google.com/assets/colab-badge.svg\" alt=\"Open In Colab\"/></a>"
      ]
    },
    {
      "cell_type": "code",
      "metadata": {
        "id": "0fFbblqAm9fb"
      },
      "source": [
        "#This program attempts to maximise the top 10 holdings of the Prudential Equity Fund, using the efficient frontier.\n",
        "#Top 10 as per fund factsheet can be found: https://www.prudential.co.za/media/29463/prudential-equity-fund.pdf"
      ],
      "execution_count": null,
      "outputs": []
    },
    {
      "cell_type": "code",
      "metadata": {
        "id": "xdMrhtqRu1BU"
      },
      "source": [
        "#Import the relevant Libraries\n",
        "import numpy as np\n",
        "import pandas as pd\n",
        "import matplotlib.pyplot as plt\n",
        "from pandas_datareader import data as web\n",
        "from datetime import datetime\n",
        "import seaborn as sns\n",
        "plt.style.use('fivethirtyeight')"
      ],
      "execution_count": null,
      "outputs": []
    },
    {
      "cell_type": "code",
      "metadata": {
        "id": "wyKSReXe8HeE"
      },
      "source": [
        "#Get the stock symbols/tickers\n",
        "assets = ['NPN.JO', 'AGL.JO', 'BTI.JO', 'SBK.JO', 'MTN.JO', 'ABG.JO', 'NHM.JO', 'EXX.JO', 'SSL']"
      ],
      "execution_count": null,
      "outputs": []
    },
    {
      "cell_type": "code",
      "metadata": {
        "id": "UId_G9zV9DiF"
      },
      "source": [
        "#Weights\n",
        "weights = np.array([0.29, 0.13, 0.11, 0.1, 0.1, 0.08, 0.07, 0.07, 0.06])"
      ],
      "execution_count": null,
      "outputs": []
    },
    {
      "cell_type": "code",
      "metadata": {
        "id": "fosUMe0u9nZK"
      },
      "source": [
        "#Get the portfolio start date\n",
        "start_date = '2016-05-23'"
      ],
      "execution_count": null,
      "outputs": []
    },
    {
      "cell_type": "code",
      "metadata": {
        "colab": {
          "base_uri": "https://localhost:8080/",
          "height": 37
        },
        "id": "vLrNiU5j99FR",
        "outputId": "1fb4d1dd-5872-4191-de3a-83dd39c71096"
      },
      "source": [
        "#Get the portfolio end date(today)\n",
        "today = datetime.today().strftime('%Y-%m-%d')\n",
        "today"
      ],
      "execution_count": null,
      "outputs": [
        {
          "output_type": "execute_result",
          "data": {
            "application/vnd.google.colaboratory.intrinsic+json": {
              "type": "string"
            },
            "text/plain": [
              "'2021-05-21'"
            ]
          },
          "metadata": {
            "tags": []
          },
          "execution_count": 6
        }
      ]
    },
    {
      "cell_type": "code",
      "metadata": {
        "colab": {
          "base_uri": "https://localhost:8080/",
          "height": 450
        },
        "id": "mtQKkY7f-nxv",
        "outputId": "79081f45-d9c1-47a5-d9a2-387d44d248f7"
      },
      "source": [
        "#Create a dataframe to store the adjusted close prices of the stocks\n",
        "df = pd.DataFrame()\n",
        "\n",
        "#Store the adjusted close prices in the df\n",
        "\n",
        "for stock in assets:\n",
        "  df[stock] = web.DataReader(stock, data_source = 'yahoo', start = start_date, end = today)['Adj Close']\n",
        "\n",
        "df"
      ],
      "execution_count": null,
      "outputs": [
        {
          "output_type": "execute_result",
          "data": {
            "text/html": [
              "<div>\n",
              "<style scoped>\n",
              "    .dataframe tbody tr th:only-of-type {\n",
              "        vertical-align: middle;\n",
              "    }\n",
              "\n",
              "    .dataframe tbody tr th {\n",
              "        vertical-align: top;\n",
              "    }\n",
              "\n",
              "    .dataframe thead th {\n",
              "        text-align: right;\n",
              "    }\n",
              "</style>\n",
              "<table border=\"1\" class=\"dataframe\">\n",
              "  <thead>\n",
              "    <tr style=\"text-align: right;\">\n",
              "      <th></th>\n",
              "      <th>NPN.JO</th>\n",
              "      <th>AGL.JO</th>\n",
              "      <th>BTI.JO</th>\n",
              "      <th>SBK.JO</th>\n",
              "      <th>MTN.JO</th>\n",
              "      <th>ABG.JO</th>\n",
              "      <th>NHM.JO</th>\n",
              "      <th>EXX.JO</th>\n",
              "      <th>SSL</th>\n",
              "    </tr>\n",
              "    <tr>\n",
              "      <th>Date</th>\n",
              "      <th></th>\n",
              "      <th></th>\n",
              "      <th></th>\n",
              "      <th></th>\n",
              "      <th></th>\n",
              "      <th></th>\n",
              "      <th></th>\n",
              "      <th></th>\n",
              "      <th></th>\n",
              "    </tr>\n",
              "  </thead>\n",
              "  <tbody>\n",
              "    <tr>\n",
              "      <th>2016-05-23</th>\n",
              "      <td>131485.921875</td>\n",
              "      <td>11443.400391</td>\n",
              "      <td>82458.710938</td>\n",
              "      <td>9243.771484</td>\n",
              "      <td>9799.000977</td>\n",
              "      <td>10474.609375</td>\n",
              "      <td>4671</td>\n",
              "      <td>3834.809326</td>\n",
              "      <td>26.382055</td>\n",
              "    </tr>\n",
              "    <tr>\n",
              "      <th>2016-05-24</th>\n",
              "      <td>135222.562500</td>\n",
              "      <td>11677.813477</td>\n",
              "      <td>83690.976562</td>\n",
              "      <td>9386.019531</td>\n",
              "      <td>9847.431641</td>\n",
              "      <td>10617.600586</td>\n",
              "      <td>4514</td>\n",
              "      <td>3757.177002</td>\n",
              "      <td>26.644876</td>\n",
              "    </tr>\n",
              "    <tr>\n",
              "      <th>2016-05-25</th>\n",
              "      <td>136502.796875</td>\n",
              "      <td>11919.787109</td>\n",
              "      <td>84685.765625</td>\n",
              "      <td>9505.073242</td>\n",
              "      <td>9955.054688</td>\n",
              "      <td>10760.594727</td>\n",
              "      <td>4460</td>\n",
              "      <td>3843.370850</td>\n",
              "      <td>27.714296</td>\n",
              "    </tr>\n",
              "    <tr>\n",
              "      <th>2016-05-26</th>\n",
              "      <td>136193.265625</td>\n",
              "      <td>12090.346680</td>\n",
              "      <td>83788.617188</td>\n",
              "      <td>9703.756836</td>\n",
              "      <td>9702.140625</td>\n",
              "      <td>11084.170898</td>\n",
              "      <td>4550</td>\n",
              "      <td>3859.354492</td>\n",
              "      <td>27.841175</td>\n",
              "    </tr>\n",
              "    <tr>\n",
              "      <th>2016-05-27</th>\n",
              "      <td>140526.656250</td>\n",
              "      <td>11820.645508</td>\n",
              "      <td>84487.867188</td>\n",
              "      <td>9660.464844</td>\n",
              "      <td>9673.698242</td>\n",
              "      <td>10784.181641</td>\n",
              "      <td>4330</td>\n",
              "      <td>3781.722412</td>\n",
              "      <td>27.714296</td>\n",
              "    </tr>\n",
              "    <tr>\n",
              "      <th>...</th>\n",
              "      <td>...</td>\n",
              "      <td>...</td>\n",
              "      <td>...</td>\n",
              "      <td>...</td>\n",
              "      <td>...</td>\n",
              "      <td>...</td>\n",
              "      <td>...</td>\n",
              "      <td>...</td>\n",
              "      <td>...</td>\n",
              "    </tr>\n",
              "    <tr>\n",
              "      <th>2021-05-17</th>\n",
              "      <td>306650.000000</td>\n",
              "      <td>65740.000000</td>\n",
              "      <td>56147.000000</td>\n",
              "      <td>12115.000000</td>\n",
              "      <td>9652.000000</td>\n",
              "      <td>12443.000000</td>\n",
              "      <td>24006</td>\n",
              "      <td>16197.000000</td>\n",
              "      <td>16.870001</td>\n",
              "    </tr>\n",
              "    <tr>\n",
              "      <th>2021-05-18</th>\n",
              "      <td>301426.000000</td>\n",
              "      <td>65861.000000</td>\n",
              "      <td>55816.000000</td>\n",
              "      <td>12236.000000</td>\n",
              "      <td>9555.000000</td>\n",
              "      <td>12630.000000</td>\n",
              "      <td>24249</td>\n",
              "      <td>16082.000000</td>\n",
              "      <td>16.530001</td>\n",
              "    </tr>\n",
              "    <tr>\n",
              "      <th>2021-05-19</th>\n",
              "      <td>298375.000000</td>\n",
              "      <td>62087.000000</td>\n",
              "      <td>54996.000000</td>\n",
              "      <td>12081.000000</td>\n",
              "      <td>9611.000000</td>\n",
              "      <td>12556.000000</td>\n",
              "      <td>23258</td>\n",
              "      <td>15548.000000</td>\n",
              "      <td>16.059999</td>\n",
              "    </tr>\n",
              "    <tr>\n",
              "      <th>2021-05-20</th>\n",
              "      <td>304152.000000</td>\n",
              "      <td>62127.000000</td>\n",
              "      <td>54800.000000</td>\n",
              "      <td>12123.000000</td>\n",
              "      <td>9474.000000</td>\n",
              "      <td>12677.000000</td>\n",
              "      <td>23155</td>\n",
              "      <td>15562.000000</td>\n",
              "      <td>15.840000</td>\n",
              "    </tr>\n",
              "    <tr>\n",
              "      <th>2021-05-21</th>\n",
              "      <td>301640.000000</td>\n",
              "      <td>62005.000000</td>\n",
              "      <td>55233.000000</td>\n",
              "      <td>12225.000000</td>\n",
              "      <td>9500.000000</td>\n",
              "      <td>12923.000000</td>\n",
              "      <td>23270</td>\n",
              "      <td>15405.000000</td>\n",
              "      <td>15.660000</td>\n",
              "    </tr>\n",
              "  </tbody>\n",
              "</table>\n",
              "<p>1263 rows × 9 columns</p>\n",
              "</div>"
            ],
            "text/plain": [
              "                   NPN.JO        AGL.JO  ...        EXX.JO        SSL\n",
              "Date                                     ...                         \n",
              "2016-05-23  131485.921875  11443.400391  ...   3834.809326  26.382055\n",
              "2016-05-24  135222.562500  11677.813477  ...   3757.177002  26.644876\n",
              "2016-05-25  136502.796875  11919.787109  ...   3843.370850  27.714296\n",
              "2016-05-26  136193.265625  12090.346680  ...   3859.354492  27.841175\n",
              "2016-05-27  140526.656250  11820.645508  ...   3781.722412  27.714296\n",
              "...                   ...           ...  ...           ...        ...\n",
              "2021-05-17  306650.000000  65740.000000  ...  16197.000000  16.870001\n",
              "2021-05-18  301426.000000  65861.000000  ...  16082.000000  16.530001\n",
              "2021-05-19  298375.000000  62087.000000  ...  15548.000000  16.059999\n",
              "2021-05-20  304152.000000  62127.000000  ...  15562.000000  15.840000\n",
              "2021-05-21  301640.000000  62005.000000  ...  15405.000000  15.660000\n",
              "\n",
              "[1263 rows x 9 columns]"
            ]
          },
          "metadata": {
            "tags": []
          },
          "execution_count": 7
        }
      ]
    },
    {
      "cell_type": "code",
      "metadata": {
        "colab": {
          "base_uri": "https://localhost:8080/"
        },
        "id": "-Qjbv8klF1wy",
        "outputId": "04dd3122-0e1c-4ae9-aeb9-6a4b7c2c9503"
      },
      "source": [
        "df.isnull().sum()"
      ],
      "execution_count": null,
      "outputs": [
        {
          "output_type": "execute_result",
          "data": {
            "text/plain": [
              "NPN.JO     0\n",
              "AGL.JO     0\n",
              "BTI.JO     0\n",
              "SBK.JO     0\n",
              "MTN.JO     0\n",
              "ABG.JO     0\n",
              "NHM.JO     0\n",
              "EXX.JO     0\n",
              "SSL       34\n",
              "dtype: int64"
            ]
          },
          "metadata": {
            "tags": []
          },
          "execution_count": 8
        }
      ]
    },
    {
      "cell_type": "code",
      "metadata": {
        "colab": {
          "base_uri": "https://localhost:8080/"
        },
        "id": "s94hmAX6_-PH",
        "outputId": "56912951-15e8-4949-95b7-e14da75f994c"
      },
      "source": [
        "#SSL is listed in USD and will have to be amended to ZAR \n",
        "# Get historical forex \n",
        "curr = web.DataReader(\"ZAR=X\", 'yahoo', start = '2016-05-24', end= today)['Adj Close']\n",
        "curr"
      ],
      "execution_count": null,
      "outputs": [
        {
          "output_type": "execute_result",
          "data": {
            "text/plain": [
              "Date\n",
              "2016-05-23    15.72025\n",
              "2016-05-24    15.65008\n",
              "2016-05-25    15.65247\n",
              "2016-05-26    15.51768\n",
              "2016-05-29    15.70210\n",
              "                ...   \n",
              "2021-05-16    14.12544\n",
              "2021-05-17    14.09261\n",
              "2021-05-18    14.00752\n",
              "2021-05-19    14.10130\n",
              "2021-05-21    13.94910\n",
              "Name: Adj Close, Length: 1281, dtype: float64"
            ]
          },
          "metadata": {
            "tags": []
          },
          "execution_count": 9
        }
      ]
    },
    {
      "cell_type": "code",
      "metadata": {
        "colab": {
          "base_uri": "https://localhost:8080/",
          "height": 450
        },
        "id": "eVHRnmcyGdmu",
        "outputId": "73b3ff45-931c-4247-f94b-b582002d5c81"
      },
      "source": [
        "#Append SSL to curr\n",
        "curr_new = pd.concat([curr, df['SSL']], axis = 1)\n",
        "curr_new\n"
      ],
      "execution_count": null,
      "outputs": [
        {
          "output_type": "execute_result",
          "data": {
            "text/html": [
              "<div>\n",
              "<style scoped>\n",
              "    .dataframe tbody tr th:only-of-type {\n",
              "        vertical-align: middle;\n",
              "    }\n",
              "\n",
              "    .dataframe tbody tr th {\n",
              "        vertical-align: top;\n",
              "    }\n",
              "\n",
              "    .dataframe thead th {\n",
              "        text-align: right;\n",
              "    }\n",
              "</style>\n",
              "<table border=\"1\" class=\"dataframe\">\n",
              "  <thead>\n",
              "    <tr style=\"text-align: right;\">\n",
              "      <th></th>\n",
              "      <th>Adj Close</th>\n",
              "      <th>SSL</th>\n",
              "    </tr>\n",
              "    <tr>\n",
              "      <th>Date</th>\n",
              "      <th></th>\n",
              "      <th></th>\n",
              "    </tr>\n",
              "  </thead>\n",
              "  <tbody>\n",
              "    <tr>\n",
              "      <th>2016-05-23</th>\n",
              "      <td>15.72025</td>\n",
              "      <td>26.382055</td>\n",
              "    </tr>\n",
              "    <tr>\n",
              "      <th>2016-05-24</th>\n",
              "      <td>15.65008</td>\n",
              "      <td>26.644876</td>\n",
              "    </tr>\n",
              "    <tr>\n",
              "      <th>2016-05-25</th>\n",
              "      <td>15.65247</td>\n",
              "      <td>27.714296</td>\n",
              "    </tr>\n",
              "    <tr>\n",
              "      <th>2016-05-26</th>\n",
              "      <td>15.51768</td>\n",
              "      <td>27.841175</td>\n",
              "    </tr>\n",
              "    <tr>\n",
              "      <th>2016-05-27</th>\n",
              "      <td>NaN</td>\n",
              "      <td>27.714296</td>\n",
              "    </tr>\n",
              "    <tr>\n",
              "      <th>...</th>\n",
              "      <td>...</td>\n",
              "      <td>...</td>\n",
              "    </tr>\n",
              "    <tr>\n",
              "      <th>2021-05-17</th>\n",
              "      <td>14.09261</td>\n",
              "      <td>16.870001</td>\n",
              "    </tr>\n",
              "    <tr>\n",
              "      <th>2021-05-18</th>\n",
              "      <td>14.00752</td>\n",
              "      <td>16.530001</td>\n",
              "    </tr>\n",
              "    <tr>\n",
              "      <th>2021-05-19</th>\n",
              "      <td>14.10130</td>\n",
              "      <td>16.059999</td>\n",
              "    </tr>\n",
              "    <tr>\n",
              "      <th>2021-05-20</th>\n",
              "      <td>NaN</td>\n",
              "      <td>15.840000</td>\n",
              "    </tr>\n",
              "    <tr>\n",
              "      <th>2021-05-21</th>\n",
              "      <td>13.94910</td>\n",
              "      <td>15.660000</td>\n",
              "    </tr>\n",
              "  </tbody>\n",
              "</table>\n",
              "<p>1444 rows × 2 columns</p>\n",
              "</div>"
            ],
            "text/plain": [
              "            Adj Close        SSL\n",
              "Date                            \n",
              "2016-05-23   15.72025  26.382055\n",
              "2016-05-24   15.65008  26.644876\n",
              "2016-05-25   15.65247  27.714296\n",
              "2016-05-26   15.51768  27.841175\n",
              "2016-05-27        NaN  27.714296\n",
              "...               ...        ...\n",
              "2021-05-17   14.09261  16.870001\n",
              "2021-05-18   14.00752  16.530001\n",
              "2021-05-19   14.10130  16.059999\n",
              "2021-05-20        NaN  15.840000\n",
              "2021-05-21   13.94910  15.660000\n",
              "\n",
              "[1444 rows x 2 columns]"
            ]
          },
          "metadata": {
            "tags": []
          },
          "execution_count": 10
        }
      ]
    },
    {
      "cell_type": "code",
      "metadata": {
        "colab": {
          "base_uri": "https://localhost:8080/",
          "height": 450
        },
        "id": "jbIkcjzoK6gL",
        "outputId": "239fceaa-4ca7-4ca5-c24c-936312a41942"
      },
      "source": [
        "#drop the USD denominated SSL and replace it with the ZAR demoninated SSL in the df\n",
        "\n",
        "df['SSL ZAR'] = curr_new['Adj Close']*df['SSL']\n",
        "df\n"
      ],
      "execution_count": null,
      "outputs": [
        {
          "output_type": "execute_result",
          "data": {
            "text/html": [
              "<div>\n",
              "<style scoped>\n",
              "    .dataframe tbody tr th:only-of-type {\n",
              "        vertical-align: middle;\n",
              "    }\n",
              "\n",
              "    .dataframe tbody tr th {\n",
              "        vertical-align: top;\n",
              "    }\n",
              "\n",
              "    .dataframe thead th {\n",
              "        text-align: right;\n",
              "    }\n",
              "</style>\n",
              "<table border=\"1\" class=\"dataframe\">\n",
              "  <thead>\n",
              "    <tr style=\"text-align: right;\">\n",
              "      <th></th>\n",
              "      <th>NPN.JO</th>\n",
              "      <th>AGL.JO</th>\n",
              "      <th>BTI.JO</th>\n",
              "      <th>SBK.JO</th>\n",
              "      <th>MTN.JO</th>\n",
              "      <th>ABG.JO</th>\n",
              "      <th>NHM.JO</th>\n",
              "      <th>EXX.JO</th>\n",
              "      <th>SSL</th>\n",
              "      <th>SSL ZAR</th>\n",
              "    </tr>\n",
              "    <tr>\n",
              "      <th>Date</th>\n",
              "      <th></th>\n",
              "      <th></th>\n",
              "      <th></th>\n",
              "      <th></th>\n",
              "      <th></th>\n",
              "      <th></th>\n",
              "      <th></th>\n",
              "      <th></th>\n",
              "      <th></th>\n",
              "      <th></th>\n",
              "    </tr>\n",
              "  </thead>\n",
              "  <tbody>\n",
              "    <tr>\n",
              "      <th>2016-05-23</th>\n",
              "      <td>131485.921875</td>\n",
              "      <td>11443.400391</td>\n",
              "      <td>82458.710938</td>\n",
              "      <td>9243.771484</td>\n",
              "      <td>9799.000977</td>\n",
              "      <td>10474.609375</td>\n",
              "      <td>4671</td>\n",
              "      <td>3834.809326</td>\n",
              "      <td>26.382055</td>\n",
              "      <td>414.732508</td>\n",
              "    </tr>\n",
              "    <tr>\n",
              "      <th>2016-05-24</th>\n",
              "      <td>135222.562500</td>\n",
              "      <td>11677.813477</td>\n",
              "      <td>83690.976562</td>\n",
              "      <td>9386.019531</td>\n",
              "      <td>9847.431641</td>\n",
              "      <td>10617.600586</td>\n",
              "      <td>4514</td>\n",
              "      <td>3757.177002</td>\n",
              "      <td>26.644876</td>\n",
              "      <td>416.994441</td>\n",
              "    </tr>\n",
              "    <tr>\n",
              "      <th>2016-05-25</th>\n",
              "      <td>136502.796875</td>\n",
              "      <td>11919.787109</td>\n",
              "      <td>84685.765625</td>\n",
              "      <td>9505.073242</td>\n",
              "      <td>9955.054688</td>\n",
              "      <td>10760.594727</td>\n",
              "      <td>4460</td>\n",
              "      <td>3843.370850</td>\n",
              "      <td>27.714296</td>\n",
              "      <td>433.797182</td>\n",
              "    </tr>\n",
              "    <tr>\n",
              "      <th>2016-05-26</th>\n",
              "      <td>136193.265625</td>\n",
              "      <td>12090.346680</td>\n",
              "      <td>83788.617188</td>\n",
              "      <td>9703.756836</td>\n",
              "      <td>9702.140625</td>\n",
              "      <td>11084.170898</td>\n",
              "      <td>4550</td>\n",
              "      <td>3859.354492</td>\n",
              "      <td>27.841175</td>\n",
              "      <td>432.030450</td>\n",
              "    </tr>\n",
              "    <tr>\n",
              "      <th>2016-05-27</th>\n",
              "      <td>140526.656250</td>\n",
              "      <td>11820.645508</td>\n",
              "      <td>84487.867188</td>\n",
              "      <td>9660.464844</td>\n",
              "      <td>9673.698242</td>\n",
              "      <td>10784.181641</td>\n",
              "      <td>4330</td>\n",
              "      <td>3781.722412</td>\n",
              "      <td>27.714296</td>\n",
              "      <td>NaN</td>\n",
              "    </tr>\n",
              "    <tr>\n",
              "      <th>...</th>\n",
              "      <td>...</td>\n",
              "      <td>...</td>\n",
              "      <td>...</td>\n",
              "      <td>...</td>\n",
              "      <td>...</td>\n",
              "      <td>...</td>\n",
              "      <td>...</td>\n",
              "      <td>...</td>\n",
              "      <td>...</td>\n",
              "      <td>...</td>\n",
              "    </tr>\n",
              "    <tr>\n",
              "      <th>2021-05-17</th>\n",
              "      <td>306650.000000</td>\n",
              "      <td>65740.000000</td>\n",
              "      <td>56147.000000</td>\n",
              "      <td>12115.000000</td>\n",
              "      <td>9652.000000</td>\n",
              "      <td>12443.000000</td>\n",
              "      <td>24006</td>\n",
              "      <td>16197.000000</td>\n",
              "      <td>16.870001</td>\n",
              "      <td>237.742349</td>\n",
              "    </tr>\n",
              "    <tr>\n",
              "      <th>2021-05-18</th>\n",
              "      <td>301426.000000</td>\n",
              "      <td>65861.000000</td>\n",
              "      <td>55816.000000</td>\n",
              "      <td>12236.000000</td>\n",
              "      <td>9555.000000</td>\n",
              "      <td>12630.000000</td>\n",
              "      <td>24249</td>\n",
              "      <td>16082.000000</td>\n",
              "      <td>16.530001</td>\n",
              "      <td>231.544311</td>\n",
              "    </tr>\n",
              "    <tr>\n",
              "      <th>2021-05-19</th>\n",
              "      <td>298375.000000</td>\n",
              "      <td>62087.000000</td>\n",
              "      <td>54996.000000</td>\n",
              "      <td>12081.000000</td>\n",
              "      <td>9611.000000</td>\n",
              "      <td>12556.000000</td>\n",
              "      <td>23258</td>\n",
              "      <td>15548.000000</td>\n",
              "      <td>16.059999</td>\n",
              "      <td>226.466874</td>\n",
              "    </tr>\n",
              "    <tr>\n",
              "      <th>2021-05-20</th>\n",
              "      <td>304152.000000</td>\n",
              "      <td>62127.000000</td>\n",
              "      <td>54800.000000</td>\n",
              "      <td>12123.000000</td>\n",
              "      <td>9474.000000</td>\n",
              "      <td>12677.000000</td>\n",
              "      <td>23155</td>\n",
              "      <td>15562.000000</td>\n",
              "      <td>15.840000</td>\n",
              "      <td>NaN</td>\n",
              "    </tr>\n",
              "    <tr>\n",
              "      <th>2021-05-21</th>\n",
              "      <td>301640.000000</td>\n",
              "      <td>62005.000000</td>\n",
              "      <td>55233.000000</td>\n",
              "      <td>12225.000000</td>\n",
              "      <td>9500.000000</td>\n",
              "      <td>12923.000000</td>\n",
              "      <td>23270</td>\n",
              "      <td>15405.000000</td>\n",
              "      <td>15.660000</td>\n",
              "      <td>218.442897</td>\n",
              "    </tr>\n",
              "  </tbody>\n",
              "</table>\n",
              "<p>1263 rows × 10 columns</p>\n",
              "</div>"
            ],
            "text/plain": [
              "                   NPN.JO        AGL.JO  ...        SSL     SSL ZAR\n",
              "Date                                     ...                       \n",
              "2016-05-23  131485.921875  11443.400391  ...  26.382055  414.732508\n",
              "2016-05-24  135222.562500  11677.813477  ...  26.644876  416.994441\n",
              "2016-05-25  136502.796875  11919.787109  ...  27.714296  433.797182\n",
              "2016-05-26  136193.265625  12090.346680  ...  27.841175  432.030450\n",
              "2016-05-27  140526.656250  11820.645508  ...  27.714296         NaN\n",
              "...                   ...           ...  ...        ...         ...\n",
              "2021-05-17  306650.000000  65740.000000  ...  16.870001  237.742349\n",
              "2021-05-18  301426.000000  65861.000000  ...  16.530001  231.544311\n",
              "2021-05-19  298375.000000  62087.000000  ...  16.059999  226.466874\n",
              "2021-05-20  304152.000000  62127.000000  ...  15.840000         NaN\n",
              "2021-05-21  301640.000000  62005.000000  ...  15.660000  218.442897\n",
              "\n",
              "[1263 rows x 10 columns]"
            ]
          },
          "metadata": {
            "tags": []
          },
          "execution_count": 12
        }
      ]
    },
    {
      "cell_type": "code",
      "metadata": {
        "colab": {
          "base_uri": "https://localhost:8080/",
          "height": 450
        },
        "id": "rua5ibBoNMwM",
        "outputId": "83f6cd14-1224-4d82-c682-a9d2761ad29b"
      },
      "source": [
        "#Drop the dollar denominated SSL\n",
        "\n",
        "df_final = df.drop(['SSL'], axis = 1)\n",
        "df_final"
      ],
      "execution_count": null,
      "outputs": [
        {
          "output_type": "execute_result",
          "data": {
            "text/html": [
              "<div>\n",
              "<style scoped>\n",
              "    .dataframe tbody tr th:only-of-type {\n",
              "        vertical-align: middle;\n",
              "    }\n",
              "\n",
              "    .dataframe tbody tr th {\n",
              "        vertical-align: top;\n",
              "    }\n",
              "\n",
              "    .dataframe thead th {\n",
              "        text-align: right;\n",
              "    }\n",
              "</style>\n",
              "<table border=\"1\" class=\"dataframe\">\n",
              "  <thead>\n",
              "    <tr style=\"text-align: right;\">\n",
              "      <th></th>\n",
              "      <th>NPN.JO</th>\n",
              "      <th>AGL.JO</th>\n",
              "      <th>BTI.JO</th>\n",
              "      <th>SBK.JO</th>\n",
              "      <th>MTN.JO</th>\n",
              "      <th>ABG.JO</th>\n",
              "      <th>NHM.JO</th>\n",
              "      <th>EXX.JO</th>\n",
              "      <th>SSL ZAR</th>\n",
              "    </tr>\n",
              "    <tr>\n",
              "      <th>Date</th>\n",
              "      <th></th>\n",
              "      <th></th>\n",
              "      <th></th>\n",
              "      <th></th>\n",
              "      <th></th>\n",
              "      <th></th>\n",
              "      <th></th>\n",
              "      <th></th>\n",
              "      <th></th>\n",
              "    </tr>\n",
              "  </thead>\n",
              "  <tbody>\n",
              "    <tr>\n",
              "      <th>2016-05-23</th>\n",
              "      <td>131485.921875</td>\n",
              "      <td>11443.400391</td>\n",
              "      <td>82458.710938</td>\n",
              "      <td>9243.771484</td>\n",
              "      <td>9799.000977</td>\n",
              "      <td>10474.609375</td>\n",
              "      <td>4671</td>\n",
              "      <td>3834.809326</td>\n",
              "      <td>414.732508</td>\n",
              "    </tr>\n",
              "    <tr>\n",
              "      <th>2016-05-24</th>\n",
              "      <td>135222.562500</td>\n",
              "      <td>11677.813477</td>\n",
              "      <td>83690.976562</td>\n",
              "      <td>9386.019531</td>\n",
              "      <td>9847.431641</td>\n",
              "      <td>10617.600586</td>\n",
              "      <td>4514</td>\n",
              "      <td>3757.177002</td>\n",
              "      <td>416.994441</td>\n",
              "    </tr>\n",
              "    <tr>\n",
              "      <th>2016-05-25</th>\n",
              "      <td>136502.796875</td>\n",
              "      <td>11919.787109</td>\n",
              "      <td>84685.765625</td>\n",
              "      <td>9505.073242</td>\n",
              "      <td>9955.054688</td>\n",
              "      <td>10760.594727</td>\n",
              "      <td>4460</td>\n",
              "      <td>3843.370850</td>\n",
              "      <td>433.797182</td>\n",
              "    </tr>\n",
              "    <tr>\n",
              "      <th>2016-05-26</th>\n",
              "      <td>136193.265625</td>\n",
              "      <td>12090.346680</td>\n",
              "      <td>83788.617188</td>\n",
              "      <td>9703.756836</td>\n",
              "      <td>9702.140625</td>\n",
              "      <td>11084.170898</td>\n",
              "      <td>4550</td>\n",
              "      <td>3859.354492</td>\n",
              "      <td>432.030450</td>\n",
              "    </tr>\n",
              "    <tr>\n",
              "      <th>2016-05-27</th>\n",
              "      <td>140526.656250</td>\n",
              "      <td>11820.645508</td>\n",
              "      <td>84487.867188</td>\n",
              "      <td>9660.464844</td>\n",
              "      <td>9673.698242</td>\n",
              "      <td>10784.181641</td>\n",
              "      <td>4330</td>\n",
              "      <td>3781.722412</td>\n",
              "      <td>NaN</td>\n",
              "    </tr>\n",
              "    <tr>\n",
              "      <th>...</th>\n",
              "      <td>...</td>\n",
              "      <td>...</td>\n",
              "      <td>...</td>\n",
              "      <td>...</td>\n",
              "      <td>...</td>\n",
              "      <td>...</td>\n",
              "      <td>...</td>\n",
              "      <td>...</td>\n",
              "      <td>...</td>\n",
              "    </tr>\n",
              "    <tr>\n",
              "      <th>2021-05-17</th>\n",
              "      <td>306650.000000</td>\n",
              "      <td>65740.000000</td>\n",
              "      <td>56147.000000</td>\n",
              "      <td>12115.000000</td>\n",
              "      <td>9652.000000</td>\n",
              "      <td>12443.000000</td>\n",
              "      <td>24006</td>\n",
              "      <td>16197.000000</td>\n",
              "      <td>237.742349</td>\n",
              "    </tr>\n",
              "    <tr>\n",
              "      <th>2021-05-18</th>\n",
              "      <td>301426.000000</td>\n",
              "      <td>65861.000000</td>\n",
              "      <td>55816.000000</td>\n",
              "      <td>12236.000000</td>\n",
              "      <td>9555.000000</td>\n",
              "      <td>12630.000000</td>\n",
              "      <td>24249</td>\n",
              "      <td>16082.000000</td>\n",
              "      <td>231.544311</td>\n",
              "    </tr>\n",
              "    <tr>\n",
              "      <th>2021-05-19</th>\n",
              "      <td>298375.000000</td>\n",
              "      <td>62087.000000</td>\n",
              "      <td>54996.000000</td>\n",
              "      <td>12081.000000</td>\n",
              "      <td>9611.000000</td>\n",
              "      <td>12556.000000</td>\n",
              "      <td>23258</td>\n",
              "      <td>15548.000000</td>\n",
              "      <td>226.466874</td>\n",
              "    </tr>\n",
              "    <tr>\n",
              "      <th>2021-05-20</th>\n",
              "      <td>304152.000000</td>\n",
              "      <td>62127.000000</td>\n",
              "      <td>54800.000000</td>\n",
              "      <td>12123.000000</td>\n",
              "      <td>9474.000000</td>\n",
              "      <td>12677.000000</td>\n",
              "      <td>23155</td>\n",
              "      <td>15562.000000</td>\n",
              "      <td>NaN</td>\n",
              "    </tr>\n",
              "    <tr>\n",
              "      <th>2021-05-21</th>\n",
              "      <td>301640.000000</td>\n",
              "      <td>62005.000000</td>\n",
              "      <td>55233.000000</td>\n",
              "      <td>12225.000000</td>\n",
              "      <td>9500.000000</td>\n",
              "      <td>12923.000000</td>\n",
              "      <td>23270</td>\n",
              "      <td>15405.000000</td>\n",
              "      <td>218.442897</td>\n",
              "    </tr>\n",
              "  </tbody>\n",
              "</table>\n",
              "<p>1263 rows × 9 columns</p>\n",
              "</div>"
            ],
            "text/plain": [
              "                   NPN.JO        AGL.JO  ...        EXX.JO     SSL ZAR\n",
              "Date                                     ...                          \n",
              "2016-05-23  131485.921875  11443.400391  ...   3834.809326  414.732508\n",
              "2016-05-24  135222.562500  11677.813477  ...   3757.177002  416.994441\n",
              "2016-05-25  136502.796875  11919.787109  ...   3843.370850  433.797182\n",
              "2016-05-26  136193.265625  12090.346680  ...   3859.354492  432.030450\n",
              "2016-05-27  140526.656250  11820.645508  ...   3781.722412         NaN\n",
              "...                   ...           ...  ...           ...         ...\n",
              "2021-05-17  306650.000000  65740.000000  ...  16197.000000  237.742349\n",
              "2021-05-18  301426.000000  65861.000000  ...  16082.000000  231.544311\n",
              "2021-05-19  298375.000000  62087.000000  ...  15548.000000  226.466874\n",
              "2021-05-20  304152.000000  62127.000000  ...  15562.000000         NaN\n",
              "2021-05-21  301640.000000  62005.000000  ...  15405.000000  218.442897\n",
              "\n",
              "[1263 rows x 9 columns]"
            ]
          },
          "metadata": {
            "tags": []
          },
          "execution_count": 13
        }
      ]
    },
    {
      "cell_type": "code",
      "metadata": {
        "colab": {
          "base_uri": "https://localhost:8080/"
        },
        "id": "8tGL0gasOANT",
        "outputId": "871c7a72-06fa-4b98-f9d5-737b419c6b04"
      },
      "source": [
        "df_final.isnull().sum()"
      ],
      "execution_count": null,
      "outputs": [
        {
          "output_type": "execute_result",
          "data": {
            "text/plain": [
              "NPN.JO       0\n",
              "AGL.JO       0\n",
              "BTI.JO       0\n",
              "SBK.JO       0\n",
              "MTN.JO       0\n",
              "ABG.JO       0\n",
              "NHM.JO       0\n",
              "EXX.JO       0\n",
              "SSL ZAR    196\n",
              "dtype: int64"
            ]
          },
          "metadata": {
            "tags": []
          },
          "execution_count": 14
        }
      ]
    },
    {
      "cell_type": "code",
      "metadata": {
        "colab": {
          "base_uri": "https://localhost:8080/",
          "height": 450
        },
        "id": "Dhtd04PPOHEN",
        "outputId": "10dffdb5-c1f1-49b1-e9e2-8ea406c9a1d5"
      },
      "source": [
        "#Dropping the missing values\n",
        "df_final.dropna(axis = 0)"
      ],
      "execution_count": null,
      "outputs": [
        {
          "output_type": "execute_result",
          "data": {
            "text/html": [
              "<div>\n",
              "<style scoped>\n",
              "    .dataframe tbody tr th:only-of-type {\n",
              "        vertical-align: middle;\n",
              "    }\n",
              "\n",
              "    .dataframe tbody tr th {\n",
              "        vertical-align: top;\n",
              "    }\n",
              "\n",
              "    .dataframe thead th {\n",
              "        text-align: right;\n",
              "    }\n",
              "</style>\n",
              "<table border=\"1\" class=\"dataframe\">\n",
              "  <thead>\n",
              "    <tr style=\"text-align: right;\">\n",
              "      <th></th>\n",
              "      <th>NPN.JO</th>\n",
              "      <th>AGL.JO</th>\n",
              "      <th>BTI.JO</th>\n",
              "      <th>SBK.JO</th>\n",
              "      <th>MTN.JO</th>\n",
              "      <th>ABG.JO</th>\n",
              "      <th>NHM.JO</th>\n",
              "      <th>EXX.JO</th>\n",
              "      <th>SSL ZAR</th>\n",
              "    </tr>\n",
              "    <tr>\n",
              "      <th>Date</th>\n",
              "      <th></th>\n",
              "      <th></th>\n",
              "      <th></th>\n",
              "      <th></th>\n",
              "      <th></th>\n",
              "      <th></th>\n",
              "      <th></th>\n",
              "      <th></th>\n",
              "      <th></th>\n",
              "    </tr>\n",
              "  </thead>\n",
              "  <tbody>\n",
              "    <tr>\n",
              "      <th>2016-05-23</th>\n",
              "      <td>131485.921875</td>\n",
              "      <td>11443.400391</td>\n",
              "      <td>82458.710938</td>\n",
              "      <td>9243.771484</td>\n",
              "      <td>9799.000977</td>\n",
              "      <td>10474.609375</td>\n",
              "      <td>4671</td>\n",
              "      <td>3834.809326</td>\n",
              "      <td>414.732508</td>\n",
              "    </tr>\n",
              "    <tr>\n",
              "      <th>2016-05-24</th>\n",
              "      <td>135222.562500</td>\n",
              "      <td>11677.813477</td>\n",
              "      <td>83690.976562</td>\n",
              "      <td>9386.019531</td>\n",
              "      <td>9847.431641</td>\n",
              "      <td>10617.600586</td>\n",
              "      <td>4514</td>\n",
              "      <td>3757.177002</td>\n",
              "      <td>416.994441</td>\n",
              "    </tr>\n",
              "    <tr>\n",
              "      <th>2016-05-25</th>\n",
              "      <td>136502.796875</td>\n",
              "      <td>11919.787109</td>\n",
              "      <td>84685.765625</td>\n",
              "      <td>9505.073242</td>\n",
              "      <td>9955.054688</td>\n",
              "      <td>10760.594727</td>\n",
              "      <td>4460</td>\n",
              "      <td>3843.370850</td>\n",
              "      <td>433.797182</td>\n",
              "    </tr>\n",
              "    <tr>\n",
              "      <th>2016-05-26</th>\n",
              "      <td>136193.265625</td>\n",
              "      <td>12090.346680</td>\n",
              "      <td>83788.617188</td>\n",
              "      <td>9703.756836</td>\n",
              "      <td>9702.140625</td>\n",
              "      <td>11084.170898</td>\n",
              "      <td>4550</td>\n",
              "      <td>3859.354492</td>\n",
              "      <td>432.030450</td>\n",
              "    </tr>\n",
              "    <tr>\n",
              "      <th>2016-05-31</th>\n",
              "      <td>143100.109375</td>\n",
              "      <td>11736.625977</td>\n",
              "      <td>85309.382812</td>\n",
              "      <td>9587.020508</td>\n",
              "      <td>9416.943359</td>\n",
              "      <td>10757.646484</td>\n",
              "      <td>4110</td>\n",
              "      <td>3571.087402</td>\n",
              "      <td>430.169036</td>\n",
              "    </tr>\n",
              "    <tr>\n",
              "      <th>...</th>\n",
              "      <td>...</td>\n",
              "      <td>...</td>\n",
              "      <td>...</td>\n",
              "      <td>...</td>\n",
              "      <td>...</td>\n",
              "      <td>...</td>\n",
              "      <td>...</td>\n",
              "      <td>...</td>\n",
              "      <td>...</td>\n",
              "    </tr>\n",
              "    <tr>\n",
              "      <th>2021-05-13</th>\n",
              "      <td>302055.000000</td>\n",
              "      <td>64961.000000</td>\n",
              "      <td>55766.000000</td>\n",
              "      <td>11995.000000</td>\n",
              "      <td>9605.000000</td>\n",
              "      <td>12250.000000</td>\n",
              "      <td>23514</td>\n",
              "      <td>15840.000000</td>\n",
              "      <td>232.992313</td>\n",
              "    </tr>\n",
              "    <tr>\n",
              "      <th>2021-05-17</th>\n",
              "      <td>306650.000000</td>\n",
              "      <td>65740.000000</td>\n",
              "      <td>56147.000000</td>\n",
              "      <td>12115.000000</td>\n",
              "      <td>9652.000000</td>\n",
              "      <td>12443.000000</td>\n",
              "      <td>24006</td>\n",
              "      <td>16197.000000</td>\n",
              "      <td>237.742349</td>\n",
              "    </tr>\n",
              "    <tr>\n",
              "      <th>2021-05-18</th>\n",
              "      <td>301426.000000</td>\n",
              "      <td>65861.000000</td>\n",
              "      <td>55816.000000</td>\n",
              "      <td>12236.000000</td>\n",
              "      <td>9555.000000</td>\n",
              "      <td>12630.000000</td>\n",
              "      <td>24249</td>\n",
              "      <td>16082.000000</td>\n",
              "      <td>231.544311</td>\n",
              "    </tr>\n",
              "    <tr>\n",
              "      <th>2021-05-19</th>\n",
              "      <td>298375.000000</td>\n",
              "      <td>62087.000000</td>\n",
              "      <td>54996.000000</td>\n",
              "      <td>12081.000000</td>\n",
              "      <td>9611.000000</td>\n",
              "      <td>12556.000000</td>\n",
              "      <td>23258</td>\n",
              "      <td>15548.000000</td>\n",
              "      <td>226.466874</td>\n",
              "    </tr>\n",
              "    <tr>\n",
              "      <th>2021-05-21</th>\n",
              "      <td>301640.000000</td>\n",
              "      <td>62005.000000</td>\n",
              "      <td>55233.000000</td>\n",
              "      <td>12225.000000</td>\n",
              "      <td>9500.000000</td>\n",
              "      <td>12923.000000</td>\n",
              "      <td>23270</td>\n",
              "      <td>15405.000000</td>\n",
              "      <td>218.442897</td>\n",
              "    </tr>\n",
              "  </tbody>\n",
              "</table>\n",
              "<p>1067 rows × 9 columns</p>\n",
              "</div>"
            ],
            "text/plain": [
              "                   NPN.JO        AGL.JO  ...        EXX.JO     SSL ZAR\n",
              "Date                                     ...                          \n",
              "2016-05-23  131485.921875  11443.400391  ...   3834.809326  414.732508\n",
              "2016-05-24  135222.562500  11677.813477  ...   3757.177002  416.994441\n",
              "2016-05-25  136502.796875  11919.787109  ...   3843.370850  433.797182\n",
              "2016-05-26  136193.265625  12090.346680  ...   3859.354492  432.030450\n",
              "2016-05-31  143100.109375  11736.625977  ...   3571.087402  430.169036\n",
              "...                   ...           ...  ...           ...         ...\n",
              "2021-05-13  302055.000000  64961.000000  ...  15840.000000  232.992313\n",
              "2021-05-17  306650.000000  65740.000000  ...  16197.000000  237.742349\n",
              "2021-05-18  301426.000000  65861.000000  ...  16082.000000  231.544311\n",
              "2021-05-19  298375.000000  62087.000000  ...  15548.000000  226.466874\n",
              "2021-05-21  301640.000000  62005.000000  ...  15405.000000  218.442897\n",
              "\n",
              "[1067 rows x 9 columns]"
            ]
          },
          "metadata": {
            "tags": []
          },
          "execution_count": 15
        }
      ]
    },
    {
      "cell_type": "code",
      "metadata": {
        "colab": {
          "base_uri": "https://localhost:8080/",
          "height": 325
        },
        "id": "EFe0i61tOot7",
        "outputId": "54901621-7b2b-43fc-d090-196245e7fd2c"
      },
      "source": [
        "#Visually show the portfolio\n",
        "\n",
        "plt.title ('Portfolio Adj Price History')\n",
        "\n",
        "#Create and plot the graph\n",
        "for c in df_final.columns.values:\n",
        "  plt.plot(df_final[c], label = c)\n",
        "\n",
        "plt.xlabel('Date')\n",
        "plt.ylabel('Adj Closing Price (ZAR)', fontsize =18)\n",
        "plt.legend(df_final.columns.values, loc = 'upper left')\n",
        "plt.show()\n"
      ],
      "execution_count": null,
      "outputs": [
        {
          "output_type": "display_data",
          "data": {
            "image/png": "[encoded data removed]",
            "text/plain": [
              "<Figure size 432x288 with 1 Axes>"
            ]
          },
          "metadata": {
            "tags": []
          }
        }
      ]
    },
    {
      "cell_type": "code",
      "metadata": {
        "colab": {
          "base_uri": "https://localhost:8080/",
          "height": 450
        },
        "id": "EgcDcg3DQ7D6",
        "outputId": "756691d1-d2f3-470c-d19c-a94c729cee02"
      },
      "source": [
        "#Show the daily simple returns\n",
        "returns = df_final.pct_change()\n",
        "returns"
      ],
      "execution_count": null,
      "outputs": [
        {
          "output_type": "execute_result",
          "data": {
            "text/html": [
              "<div>\n",
              "<style scoped>\n",
              "    .dataframe tbody tr th:only-of-type {\n",
              "        vertical-align: middle;\n",
              "    }\n",
              "\n",
              "    .dataframe tbody tr th {\n",
              "        vertical-align: top;\n",
              "    }\n",
              "\n",
              "    .dataframe thead th {\n",
              "        text-align: right;\n",
              "    }\n",
              "</style>\n",
              "<table border=\"1\" class=\"dataframe\">\n",
              "  <thead>\n",
              "    <tr style=\"text-align: right;\">\n",
              "      <th></th>\n",
              "      <th>NPN.JO</th>\n",
              "      <th>AGL.JO</th>\n",
              "      <th>BTI.JO</th>\n",
              "      <th>SBK.JO</th>\n",
              "      <th>MTN.JO</th>\n",
              "      <th>ABG.JO</th>\n",
              "      <th>NHM.JO</th>\n",
              "      <th>EXX.JO</th>\n",
              "      <th>SSL ZAR</th>\n",
              "    </tr>\n",
              "    <tr>\n",
              "      <th>Date</th>\n",
              "      <th></th>\n",
              "      <th></th>\n",
              "      <th></th>\n",
              "      <th></th>\n",
              "      <th></th>\n",
              "      <th></th>\n",
              "      <th></th>\n",
              "      <th></th>\n",
              "      <th></th>\n",
              "    </tr>\n",
              "  </thead>\n",
              "  <tbody>\n",
              "    <tr>\n",
              "      <th>2016-05-23</th>\n",
              "      <td>NaN</td>\n",
              "      <td>NaN</td>\n",
              "      <td>NaN</td>\n",
              "      <td>NaN</td>\n",
              "      <td>NaN</td>\n",
              "      <td>NaN</td>\n",
              "      <td>NaN</td>\n",
              "      <td>NaN</td>\n",
              "      <td>NaN</td>\n",
              "    </tr>\n",
              "    <tr>\n",
              "      <th>2016-05-24</th>\n",
              "      <td>0.028419</td>\n",
              "      <td>0.020485</td>\n",
              "      <td>0.014944</td>\n",
              "      <td>0.015389</td>\n",
              "      <td>0.004942</td>\n",
              "      <td>0.013651</td>\n",
              "      <td>-0.033612</td>\n",
              "      <td>-0.020244</td>\n",
              "      <td>0.005454</td>\n",
              "    </tr>\n",
              "    <tr>\n",
              "      <th>2016-05-25</th>\n",
              "      <td>0.009468</td>\n",
              "      <td>0.020721</td>\n",
              "      <td>0.011886</td>\n",
              "      <td>0.012684</td>\n",
              "      <td>0.010929</td>\n",
              "      <td>0.013468</td>\n",
              "      <td>-0.011963</td>\n",
              "      <td>0.022941</td>\n",
              "      <td>0.040295</td>\n",
              "    </tr>\n",
              "    <tr>\n",
              "      <th>2016-05-26</th>\n",
              "      <td>-0.002268</td>\n",
              "      <td>0.014309</td>\n",
              "      <td>-0.010594</td>\n",
              "      <td>0.020903</td>\n",
              "      <td>-0.025406</td>\n",
              "      <td>0.030070</td>\n",
              "      <td>0.020179</td>\n",
              "      <td>0.004159</td>\n",
              "      <td>-0.004073</td>\n",
              "    </tr>\n",
              "    <tr>\n",
              "      <th>2016-05-27</th>\n",
              "      <td>0.031818</td>\n",
              "      <td>-0.022307</td>\n",
              "      <td>0.008345</td>\n",
              "      <td>-0.004461</td>\n",
              "      <td>-0.002932</td>\n",
              "      <td>-0.027065</td>\n",
              "      <td>-0.048352</td>\n",
              "      <td>-0.020115</td>\n",
              "      <td>0.000000</td>\n",
              "    </tr>\n",
              "    <tr>\n",
              "      <th>...</th>\n",
              "      <td>...</td>\n",
              "      <td>...</td>\n",
              "      <td>...</td>\n",
              "      <td>...</td>\n",
              "      <td>...</td>\n",
              "      <td>...</td>\n",
              "      <td>...</td>\n",
              "      <td>...</td>\n",
              "      <td>...</td>\n",
              "    </tr>\n",
              "    <tr>\n",
              "      <th>2021-05-17</th>\n",
              "      <td>0.016616</td>\n",
              "      <td>0.016184</td>\n",
              "      <td>-0.003744</td>\n",
              "      <td>-0.007455</td>\n",
              "      <td>0.004893</td>\n",
              "      <td>-0.002165</td>\n",
              "      <td>0.014152</td>\n",
              "      <td>0.001236</td>\n",
              "      <td>0.020387</td>\n",
              "    </tr>\n",
              "    <tr>\n",
              "      <th>2021-05-18</th>\n",
              "      <td>-0.017036</td>\n",
              "      <td>0.001841</td>\n",
              "      <td>-0.005895</td>\n",
              "      <td>0.009988</td>\n",
              "      <td>-0.010050</td>\n",
              "      <td>0.015029</td>\n",
              "      <td>0.010122</td>\n",
              "      <td>-0.007100</td>\n",
              "      <td>-0.026070</td>\n",
              "    </tr>\n",
              "    <tr>\n",
              "      <th>2021-05-19</th>\n",
              "      <td>-0.010122</td>\n",
              "      <td>-0.057303</td>\n",
              "      <td>-0.014691</td>\n",
              "      <td>-0.012668</td>\n",
              "      <td>0.005861</td>\n",
              "      <td>-0.005859</td>\n",
              "      <td>-0.040868</td>\n",
              "      <td>-0.033205</td>\n",
              "      <td>-0.021929</td>\n",
              "    </tr>\n",
              "    <tr>\n",
              "      <th>2021-05-20</th>\n",
              "      <td>0.019362</td>\n",
              "      <td>0.000644</td>\n",
              "      <td>-0.003564</td>\n",
              "      <td>0.003477</td>\n",
              "      <td>-0.014255</td>\n",
              "      <td>0.009637</td>\n",
              "      <td>-0.004429</td>\n",
              "      <td>0.000900</td>\n",
              "      <td>0.000000</td>\n",
              "    </tr>\n",
              "    <tr>\n",
              "      <th>2021-05-21</th>\n",
              "      <td>-0.008259</td>\n",
              "      <td>-0.001964</td>\n",
              "      <td>0.007901</td>\n",
              "      <td>0.008414</td>\n",
              "      <td>0.002744</td>\n",
              "      <td>0.019405</td>\n",
              "      <td>0.004967</td>\n",
              "      <td>-0.010089</td>\n",
              "      <td>-0.035431</td>\n",
              "    </tr>\n",
              "  </tbody>\n",
              "</table>\n",
              "<p>1263 rows × 9 columns</p>\n",
              "</div>"
            ],
            "text/plain": [
              "              NPN.JO    AGL.JO    BTI.JO  ...    NHM.JO    EXX.JO   SSL ZAR\n",
              "Date                                      ...                              \n",
              "2016-05-23       NaN       NaN       NaN  ...       NaN       NaN       NaN\n",
              "2016-05-24  0.028419  0.020485  0.014944  ... -0.033612 -0.020244  0.005454\n",
              "2016-05-25  0.009468  0.020721  0.011886  ... -0.011963  0.022941  0.040295\n",
              "2016-05-26 -0.002268  0.014309 -0.010594  ...  0.020179  0.004159 -0.004073\n",
              "2016-05-27  0.031818 -0.022307  0.008345  ... -0.048352 -0.020115  0.000000\n",
              "...              ...       ...       ...  ...       ...       ...       ...\n",
              "2021-05-17  0.016616  0.016184 -0.003744  ...  0.014152  0.001236  0.020387\n",
              "2021-05-18 -0.017036  0.001841 -0.005895  ...  0.010122 -0.007100 -0.026070\n",
              "2021-05-19 -0.010122 -0.057303 -0.014691  ... -0.040868 -0.033205 -0.021929\n",
              "2021-05-20  0.019362  0.000644 -0.003564  ... -0.004429  0.000900  0.000000\n",
              "2021-05-21 -0.008259 -0.001964  0.007901  ...  0.004967 -0.010089 -0.035431\n",
              "\n",
              "[1263 rows x 9 columns]"
            ]
          },
          "metadata": {
            "tags": []
          },
          "execution_count": 17
        }
      ]
    },
    {
      "cell_type": "code",
      "metadata": {
        "colab": {
          "base_uri": "https://localhost:8080/",
          "height": 328
        },
        "id": "XXKmmJeSqVE9",
        "outputId": "4751cf3a-8fbd-4d59-9216-10e2cfa02bfb"
      },
      "source": [
        "#Create and show the annualised co-variance matrix.\n",
        "#Covariance measures how much 2 variables move together. Directional relationship between 2 assets\n",
        "#There are 251 working days in South Africa in 2021\n",
        "#The square root of covariance is volatility\n",
        "\n",
        "cov_matrix_annual = returns.cov() * 251\n",
        "cov_matrix_annual\n",
        "\n"
      ],
      "execution_count": null,
      "outputs": [
        {
          "output_type": "execute_result",
          "data": {
            "text/html": [
              "<div>\n",
              "<style scoped>\n",
              "    .dataframe tbody tr th:only-of-type {\n",
              "        vertical-align: middle;\n",
              "    }\n",
              "\n",
              "    .dataframe tbody tr th {\n",
              "        vertical-align: top;\n",
              "    }\n",
              "\n",
              "    .dataframe thead th {\n",
              "        text-align: right;\n",
              "    }\n",
              "</style>\n",
              "<table border=\"1\" class=\"dataframe\">\n",
              "  <thead>\n",
              "    <tr style=\"text-align: right;\">\n",
              "      <th></th>\n",
              "      <th>NPN.JO</th>\n",
              "      <th>AGL.JO</th>\n",
              "      <th>BTI.JO</th>\n",
              "      <th>SBK.JO</th>\n",
              "      <th>MTN.JO</th>\n",
              "      <th>ABG.JO</th>\n",
              "      <th>NHM.JO</th>\n",
              "      <th>EXX.JO</th>\n",
              "      <th>SSL ZAR</th>\n",
              "    </tr>\n",
              "  </thead>\n",
              "  <tbody>\n",
              "    <tr>\n",
              "      <th>NPN.JO</th>\n",
              "      <td>0.107830</td>\n",
              "      <td>0.037634</td>\n",
              "      <td>0.009146</td>\n",
              "      <td>0.028098</td>\n",
              "      <td>0.027615</td>\n",
              "      <td>0.020162</td>\n",
              "      <td>0.032243</td>\n",
              "      <td>0.032884</td>\n",
              "      <td>0.026766</td>\n",
              "    </tr>\n",
              "    <tr>\n",
              "      <th>AGL.JO</th>\n",
              "      <td>0.037634</td>\n",
              "      <td>0.135341</td>\n",
              "      <td>0.015550</td>\n",
              "      <td>0.039327</td>\n",
              "      <td>0.047145</td>\n",
              "      <td>0.036292</td>\n",
              "      <td>0.078658</td>\n",
              "      <td>0.078758</td>\n",
              "      <td>0.076104</td>\n",
              "    </tr>\n",
              "    <tr>\n",
              "      <th>BTI.JO</th>\n",
              "      <td>0.009146</td>\n",
              "      <td>0.015550</td>\n",
              "      <td>0.076417</td>\n",
              "      <td>-0.000663</td>\n",
              "      <td>0.016845</td>\n",
              "      <td>0.001205</td>\n",
              "      <td>0.009003</td>\n",
              "      <td>0.007935</td>\n",
              "      <td>0.015386</td>\n",
              "    </tr>\n",
              "    <tr>\n",
              "      <th>SBK.JO</th>\n",
              "      <td>0.028098</td>\n",
              "      <td>0.039327</td>\n",
              "      <td>-0.000663</td>\n",
              "      <td>0.120940</td>\n",
              "      <td>0.068572</td>\n",
              "      <td>0.105096</td>\n",
              "      <td>0.047606</td>\n",
              "      <td>0.038659</td>\n",
              "      <td>0.064795</td>\n",
              "    </tr>\n",
              "    <tr>\n",
              "      <th>MTN.JO</th>\n",
              "      <td>0.027615</td>\n",
              "      <td>0.047145</td>\n",
              "      <td>0.016845</td>\n",
              "      <td>0.068572</td>\n",
              "      <td>0.197452</td>\n",
              "      <td>0.068699</td>\n",
              "      <td>0.057212</td>\n",
              "      <td>0.043147</td>\n",
              "      <td>0.083337</td>\n",
              "    </tr>\n",
              "    <tr>\n",
              "      <th>ABG.JO</th>\n",
              "      <td>0.020162</td>\n",
              "      <td>0.036292</td>\n",
              "      <td>0.001205</td>\n",
              "      <td>0.105096</td>\n",
              "      <td>0.068699</td>\n",
              "      <td>0.142329</td>\n",
              "      <td>0.039892</td>\n",
              "      <td>0.032795</td>\n",
              "      <td>0.061751</td>\n",
              "    </tr>\n",
              "    <tr>\n",
              "      <th>NHM.JO</th>\n",
              "      <td>0.032243</td>\n",
              "      <td>0.078658</td>\n",
              "      <td>0.009003</td>\n",
              "      <td>0.047606</td>\n",
              "      <td>0.057212</td>\n",
              "      <td>0.039892</td>\n",
              "      <td>0.247803</td>\n",
              "      <td>0.071631</td>\n",
              "      <td>0.084002</td>\n",
              "    </tr>\n",
              "    <tr>\n",
              "      <th>EXX.JO</th>\n",
              "      <td>0.032884</td>\n",
              "      <td>0.078758</td>\n",
              "      <td>0.007935</td>\n",
              "      <td>0.038659</td>\n",
              "      <td>0.043147</td>\n",
              "      <td>0.032795</td>\n",
              "      <td>0.071631</td>\n",
              "      <td>0.171646</td>\n",
              "      <td>0.060805</td>\n",
              "    </tr>\n",
              "    <tr>\n",
              "      <th>SSL ZAR</th>\n",
              "      <td>0.026766</td>\n",
              "      <td>0.076104</td>\n",
              "      <td>0.015386</td>\n",
              "      <td>0.064795</td>\n",
              "      <td>0.083337</td>\n",
              "      <td>0.061751</td>\n",
              "      <td>0.084002</td>\n",
              "      <td>0.060805</td>\n",
              "      <td>0.456529</td>\n",
              "    </tr>\n",
              "  </tbody>\n",
              "</table>\n",
              "</div>"
            ],
            "text/plain": [
              "           NPN.JO    AGL.JO    BTI.JO  ...    NHM.JO    EXX.JO   SSL ZAR\n",
              "NPN.JO   0.107830  0.037634  0.009146  ...  0.032243  0.032884  0.026766\n",
              "AGL.JO   0.037634  0.135341  0.015550  ...  0.078658  0.078758  0.076104\n",
              "BTI.JO   0.009146  0.015550  0.076417  ...  0.009003  0.007935  0.015386\n",
              "SBK.JO   0.028098  0.039327 -0.000663  ...  0.047606  0.038659  0.064795\n",
              "MTN.JO   0.027615  0.047145  0.016845  ...  0.057212  0.043147  0.083337\n",
              "ABG.JO   0.020162  0.036292  0.001205  ...  0.039892  0.032795  0.061751\n",
              "NHM.JO   0.032243  0.078658  0.009003  ...  0.247803  0.071631  0.084002\n",
              "EXX.JO   0.032884  0.078758  0.007935  ...  0.071631  0.171646  0.060805\n",
              "SSL ZAR  0.026766  0.076104  0.015386  ...  0.084002  0.060805  0.456529\n",
              "\n",
              "[9 rows x 9 columns]"
            ]
          },
          "metadata": {
            "tags": []
          },
          "execution_count": 18
        }
      ]
    },
    {
      "cell_type": "code",
      "metadata": {
        "colab": {
          "base_uri": "https://localhost:8080/"
        },
        "id": "vEJVaq8VrXt_",
        "outputId": "de1d65bb-5343-4896-f3e7-1596a52b8764"
      },
      "source": [
        "'''Calculate the portfolio variance\n",
        "#Portfolio variance is a measure of the dispersion of returns of a portfolio.\n",
        "#It is the aggregate of the actual returns of a given portfolio over a set period of time\n",
        "#Low variance is associated with lower risk and a lower return. \n",
        "#High-variance stocks tend to be good for aggressive investors who are less risk-averse, \n",
        "#...while low-variance stocks tend to be good for conservative investors who have less risk tolerance. \n",
        "#Variance is a measurement of the degree of risk in an investment.'''\n",
        "port_variance = np.dot(weights.T, np.dot(cov_matrix_annual, weights))\n",
        "port_variance"
      ],
      "execution_count": null,
      "outputs": [
        {
          "output_type": "execute_result",
          "data": {
            "text/plain": [
              "0.05144670417110588"
            ]
          },
          "metadata": {
            "tags": []
          },
          "execution_count": 21
        }
      ]
    },
    {
      "cell_type": "code",
      "metadata": {
        "colab": {
          "base_uri": "https://localhost:8080/"
        },
        "id": "mxwhDBI7soCP",
        "outputId": "a553e642-071b-4d37-d6ac-71af44d8e028"
      },
      "source": [
        "#Calculate the portfolio volatility aka std deviation\n",
        "port_volatility = np.sqrt(port_variance)\n",
        "port_volatility"
      ],
      "execution_count": null,
      "outputs": [
        {
          "output_type": "execute_result",
          "data": {
            "text/plain": [
              "0.22681865922164754"
            ]
          },
          "metadata": {
            "tags": []
          },
          "execution_count": 22
        }
      ]
    },
    {
      "cell_type": "code",
      "metadata": {
        "colab": {
          "base_uri": "https://localhost:8080/"
        },
        "id": "TNfJ-cyDsr0e",
        "outputId": "b4371a58-e10a-40d8-fa0d-283bbf874dc2"
      },
      "source": [
        "#Calc  the annual portfolio return\n",
        "portfolioAnnualSimpleReturn = np.sum(returns.mean()*weights) * 251\n",
        "portfolioAnnualSimpleReturn"
      ],
      "execution_count": null,
      "outputs": [
        {
          "output_type": "execute_result",
          "data": {
            "text/plain": [
              "0.20368856903428634"
            ]
          },
          "metadata": {
            "tags": []
          },
          "execution_count": 24
        }
      ]
    },
    {
      "cell_type": "code",
      "metadata": {
        "colab": {
          "base_uri": "https://localhost:8080/"
        },
        "id": "8HhIFkSjtgdf",
        "outputId": "7efbec6a-e91c-40f1-91a1-6d7511a75e1c"
      },
      "source": [
        "#Show the expected annual return, volatility(risk) and variance\n",
        "percent_variance = round(port_variance, 2) *100\n",
        "percent_volatility = round(port_volatility, 2) * 100\n",
        "percent_ret = round(portfolioAnnualSimpleReturn, 2) *100\n",
        "\n",
        "print (f'The expected annual return : {percent_ret} %')\n",
        "print(f'Annual volatility: {percent_volatility} %')\n",
        "print(f'Annual variance: {percent_variance} %')"
      ],
      "execution_count": null,
      "outputs": [
        {
          "output_type": "stream",
          "text": [
            "The expected annual return : 20.0 %\n",
            "Annual volatility: 23.0 %\n",
            "Annual variance: 5.0 %\n"
          ],
          "name": "stdout"
        }
      ]
    },
    {
      "cell_type": "code",
      "metadata": {
        "colab": {
          "base_uri": "https://localhost:8080/"
        },
        "id": "475DQuTFuCc-",
        "outputId": "7194ae2a-b36d-438e-ef4a-d7b24f5d8f38"
      },
      "source": [
        "pip install PyPortfolioOpt"
      ],
      "execution_count": null,
      "outputs": [
        {
          "output_type": "stream",
          "text": [
            "Collecting PyPortfolioOpt\n",
            "\u001b[?25l  Downloading https://files.pythonhosted.org/packages/46/55/7d39d78d554ee33a7317e345caf01339da11406c28f18bc48794fe967935/PyPortfolioOpt-1.4.1-py3-none-any.whl (56kB)\n",
            "\r\u001b[K     |█████▊                          | 10kB 11.8MB/s eta 0:00:01\r\u001b[K     |███████████▌                    | 20kB 16.3MB/s eta 0:00:01\r\u001b[K     |█████████████████▎              | 30kB 18.9MB/s eta 0:00:01\r\u001b[K     |███████████████████████         | 40kB 21.0MB/s eta 0:00:01\r\u001b[K     |████████████████████████████▉   | 51kB 22.4MB/s eta 0:00:01\r\u001b[K     |████████████████████████████████| 61kB 5.4MB/s \n",
            "\u001b[?25hRequirement already satisfied: scipy<2.0,>=1.3 in /usr/local/lib/python3.7/dist-packages (from PyPortfolioOpt) (1.4.1)\n",
            "Collecting cvxpy<2.0.0,>=1.1.10\n",
            "\u001b[?25l  Downloading https://files.pythonhosted.org/packages/83/47/fd1e818b8da30ef18695a0fbf9b66611ab18506f0a44fc69480a75f4db1b/cvxpy-1.1.12.tar.gz (1.3MB)\n",
            "\u001b[K     |████████████████████████████████| 1.3MB 22.9MB/s \n",
            "\u001b[?25h  Installing build dependencies ... \u001b[?25l\u001b[?25hdone\n",
            "  Getting requirements to build wheel ... \u001b[?25l\u001b[?25hdone\n",
            "    Preparing wheel metadata ... \u001b[?25l\u001b[?25hdone\n",
            "Requirement already satisfied: pandas>=0.19 in /usr/local/lib/python3.7/dist-packages (from PyPortfolioOpt) (1.1.5)\n",
            "Requirement already satisfied: numpy<2.0,>=1.12 in /usr/local/lib/python3.7/dist-packages (from PyPortfolioOpt) (1.19.5)\n",
            "Requirement already satisfied: osqp>=0.4.1 in /usr/local/lib/python3.7/dist-packages (from cvxpy<2.0.0,>=1.1.10->PyPortfolioOpt) (0.6.2.post0)\n",
            "Requirement already satisfied: scs>=1.1.6 in /usr/local/lib/python3.7/dist-packages (from cvxpy<2.0.0,>=1.1.10->PyPortfolioOpt) (2.1.3)\n",
            "Requirement already satisfied: ecos>=2 in /usr/local/lib/python3.7/dist-packages (from cvxpy<2.0.0,>=1.1.10->PyPortfolioOpt) (2.0.7.post1)\n",
            "Requirement already satisfied: pytz>=2017.2 in /usr/local/lib/python3.7/dist-packages (from pandas>=0.19->PyPortfolioOpt) (2018.9)\n",
            "Requirement already satisfied: python-dateutil>=2.7.3 in /usr/local/lib/python3.7/dist-packages (from pandas>=0.19->PyPortfolioOpt) (2.8.1)\n",
            "Requirement already satisfied: qdldl in /usr/local/lib/python3.7/dist-packages (from osqp>=0.4.1->cvxpy<2.0.0,>=1.1.10->PyPortfolioOpt) (0.1.5.post0)\n",
            "Requirement already satisfied: six>=1.5 in /usr/local/lib/python3.7/dist-packages (from python-dateutil>=2.7.3->pandas>=0.19->PyPortfolioOpt) (1.15.0)\n",
            "Building wheels for collected packages: cvxpy\n",
            "  Building wheel for cvxpy (PEP 517) ... \u001b[?25l\u001b[?25hdone\n",
            "  Created wheel for cvxpy: filename=cvxpy-1.1.12-cp37-cp37m-linux_x86_64.whl size=2731613 sha256=c2c5c104193b74f9ea24497ef22ebc6940e3e4e913b942826ff49c3fd477197a\n",
            "  Stored in directory: /root/.cache/pip/wheels/9b/62/55/1da181c05c710c5d99bd560edebec3bd6a61cb69acef9dc00e\n",
            "Successfully built cvxpy\n",
            "Installing collected packages: cvxpy, PyPortfolioOpt\n",
            "  Found existing installation: cvxpy 1.0.31\n",
            "    Uninstalling cvxpy-1.0.31:\n",
            "      Successfully uninstalled cvxpy-1.0.31\n",
            "Successfully installed PyPortfolioOpt-1.4.1 cvxpy-1.1.12\n"
          ],
          "name": "stdout"
        }
      ]
    },
    {
      "cell_type": "code",
      "metadata": {
        "id": "PeSntdtUuW80"
      },
      "source": [
        "from pypfopt.efficient_frontier import EfficientFrontier\n",
        "from pypfopt import risk_models\n",
        "from pypfopt import expected_returns"
      ],
      "execution_count": null,
      "outputs": []
    },
    {
      "cell_type": "code",
      "metadata": {
        "colab": {
          "base_uri": "https://localhost:8080/"
        },
        "id": "hWwOkWaj7U2-",
        "outputId": "881dcfdc-723a-4a78-cba0-80eb753c0d9e"
      },
      "source": [
        "# Portfolio Optimization!\n",
        "#Calc expected returns and annualised simple covariance matrix of asset returns\n",
        "mean = expected_returns.mean_historical_return(df_final)\n",
        "S = risk_models.sample_cov(df_final)\n",
        "\n",
        "#Optimize for Max Sharpe ratio\n",
        "#Sharpe ratio represents the additional amount of return that an investor receives per unit of increase in risk.\n",
        "#Sharpe = E(return of asset- rf rate)/(std dev)\n",
        "ef = EfficientFrontier(mean, S)\n",
        "weights = ef.max_sharpe()\n",
        "cleaned_weights = ef.clean_weights\n",
        "print(cleaned_weights)\n",
        "ef.portfolio_performance(verbose = True)"
      ],
      "execution_count": null,
      "outputs": [
        {
          "output_type": "stream",
          "text": [
            "<bound method BaseOptimizer.clean_weights of <pypfopt.efficient_frontier.efficient_frontier.EfficientFrontier object at 0x7fe28a1de110>>\n",
            "Expected annual return: 36.0%\n",
            "Annual volatility: 30.9%\n",
            "Sharpe Ratio: 1.10\n"
          ],
          "name": "stdout"
        },
        {
          "output_type": "execute_result",
          "data": {
            "text/plain": [
              "(0.3596724060857181, 0.3087204178189319, 1.1002589607952005)"
            ]
          },
          "metadata": {
            "tags": []
          },
          "execution_count": 30
        }
      ]
    },
    {
      "cell_type": "code",
      "metadata": {
        "id": "8NfRLSbY7pe7"
      },
      "source": [
        "ef.save_weights_to_file(\"port_weights.txt\")  # saves to file"
      ],
      "execution_count": null,
      "outputs": []
    },
    {
      "cell_type": "code",
      "metadata": {
        "colab": {
          "base_uri": "https://localhost:8080/"
        },
        "id": "_UHpY6ao9Ij2",
        "outputId": "d2708809-157f-49a8-b814-fb65b8a60467"
      },
      "source": [
        "eff_port_weights = {'NPN.JO': 0.12369, 'AGL.JO': 0.58178, 'BTI.JO': 0.0, 'SBK.JO': 0.0, 'MTN.JO': 0.0, 'ABG.JO': 0.0, 'NHM.JO': 0.16581, 'EXX.JO': 0.12871, 'SSL ZAR': 0.0}\n",
        "eff_port_weights"
      ],
      "execution_count": null,
      "outputs": [
        {
          "output_type": "execute_result",
          "data": {
            "text/plain": [
              "{'ABG.JO': 0.0,\n",
              " 'AGL.JO': 0.58178,\n",
              " 'BTI.JO': 0.0,\n",
              " 'EXX.JO': 0.12871,\n",
              " 'MTN.JO': 0.0,\n",
              " 'NHM.JO': 0.16581,\n",
              " 'NPN.JO': 0.12369,\n",
              " 'SBK.JO': 0.0,\n",
              " 'SSL ZAR': 0.0}"
            ]
          },
          "metadata": {
            "tags": []
          },
          "execution_count": 38
        }
      ]
    },
    {
      "cell_type": "code",
      "metadata": {
        "colab": {
          "base_uri": "https://localhost:8080/"
        },
        "id": "kXF8EmfrA3WE",
        "outputId": "e22006ea-985b-464e-c951-d0fc26d24d16"
      },
      "source": [
        "#Calculate the Sharpe ratio using SA's risk risk free rate of 9.5%\n",
        "risk_free_rate = 0.095 \n",
        "old_Sharpe = (portfolioAnnualSimpleReturn - risk_free_rate) / port_volatility\n",
        "new_Sharpe = (0.36 - risk_free_rate)/ 0.309\n",
        "print(old_Sharpe, new_Sharpe)"
      ],
      "execution_count": null,
      "outputs": [
        {
          "output_type": "stream",
          "text": [
            "0.47918707132500815 0.8576051779935275\n"
          ],
          "name": "stdout"
        }
      ]
    },
    {
      "cell_type": "code",
      "metadata": {
        "colab": {
          "base_uri": "https://localhost:8080/",
          "height": 111
        },
        "id": "QLA3dXxqCCF_",
        "outputId": "d854e9a8-1fb5-4735-afe3-212c6e33130f"
      },
      "source": [
        "#Build a dafaframe showing new and old rates\n",
        "\n",
        "# initialise data of lists.\n",
        "data = {'Returns (%)':[percent_ret, 36],\n",
        "        'Volatility(%)':[percent_volatility, 30.9],\n",
        "        'Sharpe Ration': [old_Sharpe, new_Sharpe]}\n",
        "  \n",
        "# Creates pandas DataFrame.\n",
        "df_rates = pd.DataFrame(data, index =['Old',\n",
        "                                'New'])\n",
        "df_rates"
      ],
      "execution_count": null,
      "outputs": [
        {
          "output_type": "execute_result",
          "data": {
            "text/html": [
              "<div>\n",
              "<style scoped>\n",
              "    .dataframe tbody tr th:only-of-type {\n",
              "        vertical-align: middle;\n",
              "    }\n",
              "\n",
              "    .dataframe tbody tr th {\n",
              "        vertical-align: top;\n",
              "    }\n",
              "\n",
              "    .dataframe thead th {\n",
              "        text-align: right;\n",
              "    }\n",
              "</style>\n",
              "<table border=\"1\" class=\"dataframe\">\n",
              "  <thead>\n",
              "    <tr style=\"text-align: right;\">\n",
              "      <th></th>\n",
              "      <th>Returns (%)</th>\n",
              "      <th>Volatility(%)</th>\n",
              "      <th>Sharpe Ration</th>\n",
              "    </tr>\n",
              "  </thead>\n",
              "  <tbody>\n",
              "    <tr>\n",
              "      <th>Old</th>\n",
              "      <td>20.0</td>\n",
              "      <td>23.0</td>\n",
              "      <td>0.479187</td>\n",
              "    </tr>\n",
              "    <tr>\n",
              "      <th>New</th>\n",
              "      <td>36.0</td>\n",
              "      <td>30.9</td>\n",
              "      <td>0.857605</td>\n",
              "    </tr>\n",
              "  </tbody>\n",
              "</table>\n",
              "</div>"
            ],
            "text/plain": [
              "     Returns (%)  Volatility(%)  Sharpe Ration\n",
              "Old         20.0           23.0       0.479187\n",
              "New         36.0           30.9       0.857605"
            ]
          },
          "metadata": {
            "tags": []
          },
          "execution_count": 52
        }
      ]
    }
  ]
}